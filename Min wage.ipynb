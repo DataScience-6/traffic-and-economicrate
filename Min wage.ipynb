{
 "cells": [
  {
   "cell_type": "code",
   "execution_count": 1,
   "id": "deeedaa3",
   "metadata": {},
   "outputs": [],
   "source": [
    "import pandas as pd\n",
    "import numpy as np\n",
    "import matplotlib.pyplot as plt"
   ]
  },
  {
   "cell_type": "code",
   "execution_count": 2,
   "id": "98f31afb",
   "metadata": {},
   "outputs": [
    {
     "data": {
      "text/html": [
       "<div>\n",
       "<style scoped>\n",
       "    .dataframe tbody tr th:only-of-type {\n",
       "        vertical-align: middle;\n",
       "    }\n",
       "\n",
       "    .dataframe tbody tr th {\n",
       "        vertical-align: top;\n",
       "    }\n",
       "\n",
       "    .dataframe thead th {\n",
       "        text-align: right;\n",
       "    }\n",
       "</style>\n",
       "<table border=\"1\" class=\"dataframe\">\n",
       "  <thead>\n",
       "    <tr style=\"text-align: right;\">\n",
       "      <th></th>\n",
       "      <th>date</th>\n",
       "      <th>Min wage(hour)</th>\n",
       "      <th>Min wage Increase rate</th>\n",
       "    </tr>\n",
       "  </thead>\n",
       "  <tbody>\n",
       "    <tr>\n",
       "      <th>0</th>\n",
       "      <td>2015-01-01</td>\n",
       "      <td>5,580</td>\n",
       "      <td>7.1</td>\n",
       "    </tr>\n",
       "    <tr>\n",
       "      <th>1</th>\n",
       "      <td>2015-02-01</td>\n",
       "      <td>5,580</td>\n",
       "      <td>7.1</td>\n",
       "    </tr>\n",
       "    <tr>\n",
       "      <th>2</th>\n",
       "      <td>2015-03-01</td>\n",
       "      <td>5,580</td>\n",
       "      <td>7.1</td>\n",
       "    </tr>\n",
       "    <tr>\n",
       "      <th>3</th>\n",
       "      <td>2015-04-01</td>\n",
       "      <td>5,580</td>\n",
       "      <td>7.1</td>\n",
       "    </tr>\n",
       "    <tr>\n",
       "      <th>4</th>\n",
       "      <td>2015-05-01</td>\n",
       "      <td>5,580</td>\n",
       "      <td>7.1</td>\n",
       "    </tr>\n",
       "  </tbody>\n",
       "</table>\n",
       "</div>"
      ],
      "text/plain": [
       "         date Min wage(hour)  Min wage Increase rate\n",
       "0  2015-01-01          5,580                     7.1\n",
       "1  2015-02-01          5,580                     7.1\n",
       "2  2015-03-01          5,580                     7.1\n",
       "3  2015-04-01          5,580                     7.1\n",
       "4  2015-05-01          5,580                     7.1"
      ]
     },
     "execution_count": 2,
     "metadata": {},
     "output_type": "execute_result"
    }
   ],
   "source": [
    "min_wage=pd.read_csv(\"data/new/Min_wage.csv\",encoding=\"utf-8\")\n",
    "min_wage.head()"
   ]
  },
  {
   "cell_type": "code",
   "execution_count": 3,
   "id": "10607ad3",
   "metadata": {},
   "outputs": [
    {
     "data": {
      "text/plain": [
       "(112, 3)"
      ]
     },
     "execution_count": 3,
     "metadata": {},
     "output_type": "execute_result"
    }
   ],
   "source": [
    "min_wage.shape"
   ]
  },
  {
   "cell_type": "code",
   "execution_count": 4,
   "id": "e73ac699",
   "metadata": {},
   "outputs": [
    {
     "name": "stdout",
     "output_type": "stream",
     "text": [
      "<class 'pandas.core.frame.DataFrame'>\n",
      "RangeIndex: 112 entries, 0 to 111\n",
      "Data columns (total 3 columns):\n",
      " #   Column                  Non-Null Count  Dtype  \n",
      "---  ------                  --------------  -----  \n",
      " 0   date                    112 non-null    object \n",
      " 1   Min wage(hour)          112 non-null    object \n",
      " 2   Min wage Increase rate  112 non-null    float64\n",
      "dtypes: float64(1), object(2)\n",
      "memory usage: 2.8+ KB\n"
     ]
    }
   ],
   "source": [
    "min_wage.info()"
   ]
  },
  {
   "cell_type": "code",
   "execution_count": 5,
   "id": "c505a097",
   "metadata": {
    "scrolled": true
   },
   "outputs": [
    {
     "data": {
      "text/html": [
       "<div>\n",
       "<style scoped>\n",
       "    .dataframe tbody tr th:only-of-type {\n",
       "        vertical-align: middle;\n",
       "    }\n",
       "\n",
       "    .dataframe tbody tr th {\n",
       "        vertical-align: top;\n",
       "    }\n",
       "\n",
       "    .dataframe thead th {\n",
       "        text-align: right;\n",
       "    }\n",
       "</style>\n",
       "<table border=\"1\" class=\"dataframe\">\n",
       "  <thead>\n",
       "    <tr style=\"text-align: right;\">\n",
       "      <th></th>\n",
       "      <th>Min wage Increase rate</th>\n",
       "    </tr>\n",
       "  </thead>\n",
       "  <tbody>\n",
       "    <tr>\n",
       "      <th>count</th>\n",
       "      <td>112.000000</td>\n",
       "    </tr>\n",
       "    <tr>\n",
       "      <th>mean</th>\n",
       "      <td>6.975893</td>\n",
       "    </tr>\n",
       "    <tr>\n",
       "      <th>std</th>\n",
       "      <td>4.246094</td>\n",
       "    </tr>\n",
       "    <tr>\n",
       "      <th>min</th>\n",
       "      <td>1.500000</td>\n",
       "    </tr>\n",
       "    <tr>\n",
       "      <th>25%</th>\n",
       "      <td>4.467500</td>\n",
       "    </tr>\n",
       "    <tr>\n",
       "      <th>50%</th>\n",
       "      <td>7.100000</td>\n",
       "    </tr>\n",
       "    <tr>\n",
       "      <th>75%</th>\n",
       "      <td>8.100000</td>\n",
       "    </tr>\n",
       "    <tr>\n",
       "      <th>max</th>\n",
       "      <td>16.400000</td>\n",
       "    </tr>\n",
       "  </tbody>\n",
       "</table>\n",
       "</div>"
      ],
      "text/plain": [
       "       Min wage Increase rate\n",
       "count              112.000000\n",
       "mean                 6.975893\n",
       "std                  4.246094\n",
       "min                  1.500000\n",
       "25%                  4.467500\n",
       "50%                  7.100000\n",
       "75%                  8.100000\n",
       "max                 16.400000"
      ]
     },
     "execution_count": 5,
     "metadata": {},
     "output_type": "execute_result"
    }
   ],
   "source": [
    "min_wage.describe()"
   ]
  },
  {
   "cell_type": "code",
   "execution_count": 6,
   "id": "afbbac8d",
   "metadata": {},
   "outputs": [],
   "source": [
    "#날짜 형식 변경\n",
    "min_wage['date'] = pd.to_datetime(min_wage['date'])"
   ]
  },
  {
   "cell_type": "code",
   "execution_count": 7,
   "id": "7355583d",
   "metadata": {},
   "outputs": [
    {
     "data": {
      "image/png": "[encoded data removed]",
      "text/plain": [
       "<Figure size 1000x600 with 2 Axes>"
      ]
     },
     "metadata": {},
     "output_type": "display_data"
    }
   ],
   "source": [
    "# 그래프 그리기\n",
    "plt.figure(figsize=(10, 6))\n",
    "\n",
    "# 최저 시급 그래프\n",
    "plt.subplot(2, 1, 1)\n",
    "plt.plot(min_wage['date'],min_wage['Min wage(hour)'], marker='o', linestyle='-', color='b')\n",
    "plt.title('Minimum Wage Over Time')\n",
    "plt.xlabel('Date')\n",
    "plt.ylabel('Minimum Wage')\n",
    "plt.xticks(rotation=45)\n",
    "\n",
    "# 최저 시급 인상률 그래프\n",
    "plt.subplot(2, 1, 2)\n",
    "plt.plot(min_wage['date'], min_wage['Min wage Increase rate'], marker='o', linestyle='-', color='r')\n",
    "plt.title('Minimum Wage Increase Rate Over Time')\n",
    "plt.xlabel('Date')\n",
    "plt.ylabel('Increase Rate (%)')\n",
    "plt.xticks(rotation=45)\n",
    "\n",
    "plt.tight_layout()\n",
    "plt.show()"
   ]
  },
  {
   "cell_type": "code",
   "execution_count": 8,
   "id": "71545ab3",
   "metadata": {},
   "outputs": [
    {
     "data": {
      "text/html": [
       "<div>\n",
       "<style scoped>\n",
       "    .dataframe tbody tr th:only-of-type {\n",
       "        vertical-align: middle;\n",
       "    }\n",
       "\n",
       "    .dataframe tbody tr th {\n",
       "        vertical-align: top;\n",
       "    }\n",
       "\n",
       "    .dataframe thead th {\n",
       "        text-align: right;\n",
       "    }\n",
       "</style>\n",
       "<table border=\"1\" class=\"dataframe\">\n",
       "  <thead>\n",
       "    <tr style=\"text-align: right;\">\n",
       "      <th></th>\n",
       "      <th>date</th>\n",
       "      <th>Min wage(hour)</th>\n",
       "      <th>Min wage Increase rate</th>\n",
       "    </tr>\n",
       "  </thead>\n",
       "  <tbody>\n",
       "    <tr>\n",
       "      <th>0</th>\n",
       "      <td>2015-01-01</td>\n",
       "      <td>5,580</td>\n",
       "      <td>7.1</td>\n",
       "    </tr>\n",
       "    <tr>\n",
       "      <th>1</th>\n",
       "      <td>2015-01-02</td>\n",
       "      <td>5,580</td>\n",
       "      <td>7.1</td>\n",
       "    </tr>\n",
       "    <tr>\n",
       "      <th>2</th>\n",
       "      <td>2015-01-03</td>\n",
       "      <td>5,580</td>\n",
       "      <td>7.1</td>\n",
       "    </tr>\n",
       "    <tr>\n",
       "      <th>3</th>\n",
       "      <td>2015-01-04</td>\n",
       "      <td>5,580</td>\n",
       "      <td>7.1</td>\n",
       "    </tr>\n",
       "    <tr>\n",
       "      <th>4</th>\n",
       "      <td>2015-01-05</td>\n",
       "      <td>5,580</td>\n",
       "      <td>7.1</td>\n",
       "    </tr>\n",
       "    <tr>\n",
       "      <th>...</th>\n",
       "      <td>...</td>\n",
       "      <td>...</td>\n",
       "      <td>...</td>\n",
       "    </tr>\n",
       "    <tr>\n",
       "      <th>3374</th>\n",
       "      <td>2024-03-28</td>\n",
       "      <td>9,860</td>\n",
       "      <td>2.5</td>\n",
       "    </tr>\n",
       "    <tr>\n",
       "      <th>3375</th>\n",
       "      <td>2024-03-29</td>\n",
       "      <td>9,860</td>\n",
       "      <td>2.5</td>\n",
       "    </tr>\n",
       "    <tr>\n",
       "      <th>3376</th>\n",
       "      <td>2024-03-30</td>\n",
       "      <td>9,860</td>\n",
       "      <td>2.5</td>\n",
       "    </tr>\n",
       "    <tr>\n",
       "      <th>3377</th>\n",
       "      <td>2024-03-31</td>\n",
       "      <td>9,860</td>\n",
       "      <td>2.5</td>\n",
       "    </tr>\n",
       "    <tr>\n",
       "      <th>3378</th>\n",
       "      <td>2024-04-01</td>\n",
       "      <td>9,860</td>\n",
       "      <td>2.5</td>\n",
       "    </tr>\n",
       "  </tbody>\n",
       "</table>\n",
       "<p>3379 rows × 3 columns</p>\n",
       "</div>"
      ],
      "text/plain": [
       "            date Min wage(hour)  Min wage Increase rate\n",
       "0     2015-01-01          5,580                     7.1\n",
       "1     2015-01-02          5,580                     7.1\n",
       "2     2015-01-03          5,580                     7.1\n",
       "3     2015-01-04          5,580                     7.1\n",
       "4     2015-01-05          5,580                     7.1\n",
       "...          ...            ...                     ...\n",
       "3374  2024-03-28          9,860                     2.5\n",
       "3375  2024-03-29          9,860                     2.5\n",
       "3376  2024-03-30          9,860                     2.5\n",
       "3377  2024-03-31          9,860                     2.5\n",
       "3378  2024-04-01          9,860                     2.5\n",
       "\n",
       "[3379 rows x 3 columns]"
      ]
     },
     "execution_count": 8,
     "metadata": {},
     "output_type": "execute_result"
    }
   ],
   "source": [
    "# 한 번만 실행 가능합니다. 다시 실행할 때는 Kernel을 재시작 해주세요\n",
    "# date 컬럼을 인덱스로 설정\n",
    "min_wage.set_index('date', inplace=True)\n",
    "\n",
    "# 데이터프레임의 인덱스를 다시 초기화하여 일별 데이터로 확장\n",
    "min_wage = min_wage.resample('D').ffill()\n",
    "\n",
    "# 데이터프레임의 인덱스를 다시 초기화하고, 날짜를 원하는 형식으로 변환\n",
    "min_wage.reset_index(inplace=True)\n",
    "min_wage['date'] = min_wage['date'].dt.strftime('%Y-%m-%d')\n",
    "\n",
    "# 결과 출력\n",
    "min_wage"
   ]
  },
  {
   "cell_type": "code",
   "execution_count": 9,
   "id": "8a679617",
   "metadata": {},
   "outputs": [],
   "source": [
    "min_wage.to_csv('Min_wage_cleaned.csv',index=False)"
   ]
  },
  {
   "cell_type": "code",
   "execution_count": null,
   "id": "a05e4b13",
   "metadata": {},
   "outputs": [],
   "source": []
  }
 ],
 "metadata": {
  "kernelspec": {
   "display_name": "Python 3 (ipykernel)",
   "language": "python",
   "name": "python3"
  },
  "language_info": {
   "codemirror_mode": {
    "name": "ipython",
    "version": 3
   },
   "file_extension": ".py",
   "mimetype": "text/x-python",
   "name": "python",
   "nbconvert_exporter": "python",
   "pygments_lexer": "ipython3",
   "version": "3.9.13"
  }
 },
 "nbformat": 4,
 "nbformat_minor": 5
}
